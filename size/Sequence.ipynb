{
 "cells": [
  {
   "cell_type": "code",
   "execution_count": 2,
   "metadata": {},
   "outputs": [],
   "source": [
    "import networkx as nx\n",
    "import matplotlib.pyplot as plt"
   ]
  },
  {
   "cell_type": "code",
   "execution_count": 3,
   "metadata": {},
   "outputs": [
    {
     "name": "stdout",
     "output_type": "stream",
     "text": [
      "-*Function[stdio:3:29-7:19]*-\n",
      "\n",
      "FunctionClosure\n"
     ]
    }
   ],
   "source": [
    "%%macaulay2\n",
    "restart\n",
    "loadPackage(\"Graphs\", Reload=> true);\n",
    "\n",
    "sizeBettiGraph = method();\n",
    "sizeBettiGraph(Graph) := (G)->(\n",
    "\tI := edgeIdeal G;\n",
    "\tprojdim := pdim coker gens I;\n",
    "\treg := regularity coker gens I;\n",
    "\t{projdim, reg}\n",
    ")"
   ]
  },
  {
   "cell_type": "code",
   "execution_count": null,
   "metadata": {},
   "outputs": [],
   "source": [
    "%%macaulay2\n",
    "n = 9;\n",
    "mini = n - 1\n",
    "maxi = binomial(n, 2) - 1\n",
    "\n",
    "f = concatenate(\"./data_m2/graph\",toString(n),\"c.txt\");\n",
    "f = value get f;\n",
    "\n",
    "vals = flatten for i to #f - 1 list {(sizeBettiGraph(graph(f#i)), #(edges graph(f#i)))};\n",
    "edge = unique flatten for i from mini to maxi list select(vals, k -> k#1 == i);\n",
    "edge = for i from mini to maxi list number(edge, k -> k#1 == i);\n",
    "edge = append(edge, 1)"
   ]
  },
  {
   "cell_type": "code",
   "execution_count": 6,
   "metadata": {},
   "outputs": [
    {
     "name": "stdout",
     "output_type": "stream",
     "text": [
      "{10, 11, 12, 13, 13, 11, 11, 10, 9, 9, 9, 8, 8, 7, 5, 5, 5, 4, 4, 4, 3, 2, 2, 2, 2, 1, 1, 1, 1}\n",
      "\n",
      "List\n"
     ]
    }
   ],
   "source": [
    "%%macaulay2\n",
    "n = 9;\n",
    "edge = {10, 11, 12, 13, 13, 11, 11, 10, 9, 9, 9, 8, 8, 7, 5, 5, 5, 4, 4, 4, 3, 2, 2, 2, 2, 1, 1, 1, 1}"
   ]
  },
  {
   "cell_type": "code",
   "execution_count": 8,
   "metadata": {},
   "outputs": [
    {
     "name": "stdout",
     "output_type": "stream",
     "text": [
      "./output_sequences/sizes9c.txt\n",
      "\n",
      "File\n"
     ]
    }
   ],
   "source": [
    "%%macaulay2\n",
    "foutput = concatenate(\"./output_sequences/sizes\",toString(n), \"c.txt\");\n",
    "foutput << edge\n",
    "foutput << close;"
   ]
  },
  {
   "cell_type": "code",
   "execution_count": 9,
   "metadata": {},
   "outputs": [],
   "source": [
    "n = 9\n",
    "mini = n - 1\n",
    "maxi = 0.5 * n * (n - 1) - 1\n",
    "f_output = f = open(f'./output_sequences/sizes%sc.txt' %(n), 'r')\n",
    "values = str.split(f.read()[1:-1], ', ')"
   ]
  },
  {
   "cell_type": "code",
   "execution_count": 10,
   "metadata": {},
   "outputs": [],
   "source": [
    "values = [int(v) for v in values]"
   ]
  },
  {
   "cell_type": "code",
   "execution_count": 11,
   "metadata": {},
   "outputs": [
    {
     "name": "stderr",
     "output_type": "stream",
     "text": [
      "<>:11: DeprecationWarning: invalid escape sequence \\m\n",
      "<>:11: DeprecationWarning: invalid escape sequence \\m\n",
      "<ipython-input-11-cb90a1f03873>:11: DeprecationWarning: invalid escape sequence \\m\n",
      "  plt.title('Possible sizes of Betti tables of connected graphs in ' + str(n) + ' variables over $\\mathbb{Q}$')\n"
     ]
    },
    {
     "data": {
      "image/png": "[encoded data removed]",
      "text/plain": [
       "<Figure size 576x288 with 1 Axes>"
      ]
     },
     "metadata": {
      "needs_background": "light"
     },
     "output_type": "display_data"
    }
   ],
   "source": [
    "plt.figure(figsize = (8, 4))\n",
    "plt.plot(list(range(mini, int(maxi) + 2)), values, '-o')\n",
    "plt.xlim(mini - 1, maxi + 2)\n",
    "plt.ylim(0, max(values) + 1)\n",
    "plt.xticks(list(range(mini, int(maxi) + 2)))\n",
    "plt.yticks(list(range(0, max(values) + 2)))\n",
    "\n",
    "plt.xlabel('Number of edges')\n",
    "plt.ylabel('Number of possible sizes of Betti tables')\n",
    "\n",
    "plt.title('Possible sizes of Betti tables of connected graphs in ' + str(n) + ' variables over $\\mathbb{Q}$')\n",
    "\n",
    "plt.savefig(f'./sequences_image/%sQQ_sequence' %(n))"
   ]
  }
 ],
 "metadata": {
  "kernelspec": {
   "display_name": "SageMath 9.2",
   "language": "sage",
   "name": "sagemath"
  },
  "language_info": {
   "codemirror_mode": {
    "name": "ipython",
    "version": 3
   },
   "file_extension": ".py",
   "mimetype": "text/x-python",
   "name": "python",
   "nbconvert_exporter": "python",
   "pygments_lexer": "ipython3",
   "version": "3.8.6"
  }
 },
 "nbformat": 4,
 "nbformat_minor": 4
}
