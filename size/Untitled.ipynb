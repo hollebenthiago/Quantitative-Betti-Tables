{
 "cells": [
  {
   "cell_type": "code",
   "execution_count": 1,
   "metadata": {},
   "outputs": [
    {
     "name": "stdout",
     "output_type": "stream",
     "text": [
      "EdgeIdeals\n",
      "\n",
      "Package\n"
     ]
    }
   ],
   "source": [
    "%%macaulay2\n",
    "loadPackage \"EdgeIdeals\""
   ]
  },
  {
   "cell_type": "code",
   "execution_count": 2,
   "metadata": {},
   "outputs": [
    {
     "name": "stdout",
     "output_type": "stream",
     "text": [
      "R\n",
      "\n",
      "PolynomialRing\n"
     ]
    }
   ],
   "source": [
    "%%macaulay2\n",
    "R = QQ[x_0..x_5]"
   ]
  },
  {
   "cell_type": "code",
   "execution_count": 11,
   "metadata": {},
   "outputs": [
    {
     "name": "stdout",
     "output_type": "stream",
     "text": [
      "1001\n"
     ]
    }
   ],
   "source": [
    "%%macaulay2\n",
    "c = 0;\n",
    "for i to 1000 do {\n",
    "    G = randomGraph(R, 12);\n",
    "    if (isConnected) G then (c = c + 1);\n",
    "}\n",
    "c"
   ]
  }
 ],
 "metadata": {
  "kernelspec": {
   "display_name": "SageMath 9.1",
   "language": "sage",
   "name": "sagemath"
  },
  "language_info": {
   "codemirror_mode": {
    "name": "ipython",
    "version": 3
   },
   "file_extension": ".py",
   "mimetype": "text/x-python",
   "name": "python",
   "nbconvert_exporter": "python",
   "pygments_lexer": "ipython3",
   "version": "3.7.8"
  }
 },
 "nbformat": 4,
 "nbformat_minor": 2
}
